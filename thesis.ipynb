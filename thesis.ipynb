{
 "cells": [
  {
   "cell_type": "code",
   "execution_count": null,
   "id": "90018e70",
   "metadata": {},
   "outputs": [],
   "source": [
    "import pathlib\n",
    "import sys\n",
    "import os\n",
    "import typing"
   ]
  },
  {
   "cell_type": "code",
   "execution_count": null,
   "id": "084f80ac",
   "metadata": {},
   "outputs": [],
   "source": [
    "sys.path.append(str(pathlib.Path.cwd().parent.parent))\n",
    "os.chdir(str(pathlib.Path.cwd().parent.parent))\n",
    "%load_ext autoreload\n",
    "%autoreload 2"
   ]
  },
  {
   "cell_type": "code",
   "execution_count": null,
   "id": "adfa3fcd",
   "metadata": {},
   "outputs": [],
   "source": [
    "import random\n",
    "\n",
    "from riseuplib.model import Eva, Parcel\n",
    "from riseuplib.pipeline import Pipeline\n",
    "from riseuplib.runnables import PolygonRunnable, AssociationRunnable, SetbackRunnable, RunnableFactory\n",
    "from riseuplib.utils.tools import load_config\n",
    "from riseuplib.utils.helpers import DataProxy\n",
    "from riseuplib.utils.visuals import create_canvas\n",
    "from riseuplib.settings import Settings\n",
    "\n",
    "from pydantic import BaseModel\n",
    "from pathlib import Path\n",
    "from shapely import wkt"
   ]
  },
  {
   "cell_type": "markdown",
   "id": "580268e2",
   "metadata": {},
   "source": [
    "## Explore Building Model"
   ]
  },
  {
   "cell_type": "code",
   "execution_count": null,
   "id": "91186b73",
   "metadata": {},
   "outputs": [],
   "source": [
    "eva = Eva(\"./configs/building_cfg_single.json\")\n",
    "eva.set_position(5, 0, 0)\n",
    "eva.display(shadow_time=10)"
   ]
  },
  {
   "cell_type": "markdown",
   "id": "64d2f269",
   "metadata": {},
   "source": [
    "## Create Urban Planning pipeline"
   ]
  },
  {
   "cell_type": "code",
   "execution_count": null,
   "id": "e8047686",
   "metadata": {},
   "outputs": [],
   "source": [
    "class Config(BaseModel):\n",
    "    data_paths: str\n",
    "    runnables: typing.List\n",
    "        \n",
    "config = Config(**load_config('./configs/planner_thesis.json'))"
   ]
  },
  {
   "cell_type": "code",
   "execution_count": null,
   "id": "cbf23a88",
   "metadata": {},
   "outputs": [],
   "source": [
    "settings = Settings()\n",
    "runnable_kwargs = {\n",
    "    \"settings\": settings\n",
    "}\n",
    "\n",
    "factory = RunnableFactory()\n",
    "factory.register(\"polygon_runnable\", PolygonRunnable)\n",
    "factory.register(\"association_runnable\", AssociationRunnable)\n",
    "factory.register(\"setback_runnable\", SetbackRunnable)\n",
    "pipeline = Pipeline([factory.create(args, **runnable_kwargs) for args in config.runnables])"
   ]
  },
  {
   "cell_type": "markdown",
   "id": "b1117b6a",
   "metadata": {},
   "source": [
    "## Run Urban Planning pipeline"
   ]
  },
  {
   "cell_type": "code",
   "execution_count": null,
   "id": "83c618b3",
   "metadata": {},
   "outputs": [],
   "source": [
    "data_proxy = DataProxy(settings)"
   ]
  },
  {
   "cell_type": "code",
   "execution_count": null,
   "id": "240b2005",
   "metadata": {},
   "outputs": [],
   "source": [
    "# find by addr\n",
    "address = \"540 Howes Creek Rd, Mansfield VIC 3722\"\n",
    "property_id = data_proxy.find_id_by_address(address)"
   ]
  },
  {
   "cell_type": "code",
   "execution_count": null,
   "id": "2dd325b2",
   "metadata": {},
   "outputs": [],
   "source": [
    "# find by loc\n",
    "point_data = [145.7102847125895, -38.641301523261376]\n",
    "property_id = data_proxy.find_id_by_location(point_data)"
   ]
  },
  {
   "cell_type": "code",
   "execution_count": null,
   "id": "f4210720",
   "metadata": {},
   "outputs": [],
   "source": [
    "# if prop id is known\n",
    "property_id = '0000024b-4e1b-5bd5-b0d2-f77be37b5b65'"
   ]
  },
  {
   "cell_type": "code",
   "execution_count": null,
   "id": "9dccdb4c",
   "metadata": {
    "scrolled": true
   },
   "outputs": [],
   "source": [
    "pipeline.run(data={\"property_id\": property_id},\n",
    "             zone_permit_exists=True,\n",
    "             subdivision_permit_exists=True,\n",
    "             tolerance=0.005)"
   ]
  },
  {
   "cell_type": "code",
   "execution_count": null,
   "id": "b73b90a3",
   "metadata": {
    "scrolled": true
   },
   "outputs": [],
   "source": [
    "pipeline.state"
   ]
  },
  {
   "cell_type": "markdown",
   "id": "08f07f92",
   "metadata": {},
   "source": [
    "# Single Building"
   ]
  },
  {
   "cell_type": "code",
   "execution_count": null,
   "id": "5c39cb8f",
   "metadata": {
    "scrolled": true
   },
   "outputs": [],
   "source": [
    "parcels_data = pipeline.state['parcels_data']"
   ]
  },
  {
   "cell_type": "code",
   "execution_count": null,
   "id": "500a2040",
   "metadata": {},
   "outputs": [],
   "source": [
    "parcel = parcels_data[0].parcel"
   ]
  },
  {
   "cell_type": "code",
   "execution_count": null,
   "id": "6db68658",
   "metadata": {},
   "outputs": [],
   "source": [
    "RESULTS_DIR='./results/complex_case_2'"
   ]
  },
  {
   "cell_type": "code",
   "execution_count": null,
   "id": "427aaa03",
   "metadata": {},
   "outputs": [],
   "source": [
    "import pygad\n",
    "import random\n",
    "import numpy as np\n",
    "import matplotlib.pyplot as plt\n",
    "\n",
    "from riseuplib.model.land import Land\n",
    "from riseuplib.utils.geometry.basic import discretize\n",
    "from shapely.geometry import Polygon, Point\n",
    "from timeit import default_timer as timer\n",
    "\n",
    "\n",
    "def cost(parcel: Parcel, eva: Eva, minimise=True) -> float:\n",
    "    result = 0\n",
    "    x, y, _ = eva.get_position()\n",
    "    dist_to_front = parcel.setback_shape.sides.front.distance(Point(x, y))\n",
    "    land_shape = parcel.setback_shape.polygon_utm\n",
    "    eva_shape = eva.get_shape()\n",
    "    shadows = eva.cast_shadows()\n",
    "    \n",
    "    shadow_component = sum([np.abs(shadow.intersection(parcel.left_parcels[0].polygon_utm).area + \n",
    "                                   shadow.intersection(parcel.right_parcels[0].polygon_utm).area) ** 2 for shadow in shadows.values()])\n",
    "    \n",
    "    result += dist_to_front ** 2 + np.abs(eva_shape.intersection(land_shape).area - eva_shape.area) ** 2 + eva_shape.distance(\n",
    "        land_shape) ** 2 + shadow_component\n",
    "\n",
    "    return result if minimise else -result\n",
    "\n",
    "\n",
    "class GAAlgorithm:\n",
    "    \"\"\"\n",
    "    Genetic algorithm class instance\n",
    "    \"\"\"\n",
    "    def __init__(self):\n",
    "        pass\n",
    "\n",
    "    def run(self,\n",
    "            parcel: Parcel,\n",
    "            eva: Eva,\n",
    "            optimisation_area: Polygon = None,\n",
    "            init_angle: float = None,\n",
    "            seed=123,\n",
    "            num_generations=1000,\n",
    "            sol_per_pop=5,\n",
    "            num_parents_mating=3,\n",
    "            reach=0.0,\n",
    "            saturation=20,\n",
    "            *args, **kwargs) -> pygad.GA:\n",
    "\n",
    "        # set seed (this allows getting reproducible results)\n",
    "        random.seed(seed)\n",
    "        np.random.seed(seed)\n",
    "\n",
    "        visualise = kwargs[\"visualise\"] if \"visualise\" in kwargs else False\n",
    "        n_actions = 3\n",
    "\n",
    "        def fitness_function(solution: typing.List, solution_idx: int) -> float:\n",
    "            if len(solution) != 3:\n",
    "                raise RuntimeError(f\"Action state dimension is wrong. \"\n",
    "                                   f\"Actions len: {len(solution)}\")\n",
    "            x, y, angle = solution\n",
    "            eva.set_position(x, y, angle)\n",
    "            return cost(parcel=parcel, eva=eva, minimise=False)\n",
    "\n",
    "        points = discretize(optimisation_area) if optimisation_area else discretize(parcel.setback_shape.polygon_utm)\n",
    "\n",
    "        x_space, y_space = list(zip(*points))\n",
    "\n",
    "        angle_gene_space = list(range(0, 360, 10)) if init_angle is None else list(range(int(init_angle) - 10,\n",
    "                                                                                   int(init_angle) + 10, 1))\n",
    "        gene_space = [list(x_space), list(y_space), angle_gene_space]\n",
    "\n",
    "        # create an instance of genetic algorithm\n",
    "        ga_instance = pygad.GA(num_generations=num_generations,\n",
    "                               sol_per_pop=sol_per_pop,\n",
    "                               num_parents_mating=num_parents_mating,\n",
    "                               num_genes=n_actions,\n",
    "                               mutation_type=\"adaptive\",\n",
    "                               mutation_num_genes=(3, 2),\n",
    "                               gene_space=gene_space,\n",
    "                               allow_duplicate_genes=False,\n",
    "                               fitness_func=fitness_function)\n",
    "\n",
    "        print(\"Initial Population\")\n",
    "        print(ga_instance.initial_population)\n",
    "\n",
    "        # apply first population\n",
    "        fitness_function(ga_instance.population[0], 0)\n",
    "        if visualise:\n",
    "            self.visualise(parcel=parcel, eva=eva)\n",
    "\n",
    "        # run GA\n",
    "        start = timer()\n",
    "        ga_instance.run()\n",
    "        elapsed = timer() - start\n",
    "        print(f\"Elapsed: {elapsed}\")\n",
    "\n",
    "        # output final population\n",
    "        print(\"Final Population\")\n",
    "        print(ga_instance.population)\n",
    "        print(f\"Fitness function value: {fitness_function(ga_instance.best_solution()[0], 0)}\")\n",
    "\n",
    "        if visualise:\n",
    "            # convergence plot\n",
    "            ga_instance.plot_fitness(save_dir=os.path.join(RESULTS_DIR, 'fitness.png'))\n",
    "\n",
    "            self.visualise(parcel=parcel,\n",
    "                           eva=eva,\n",
    "                           op_area=optimisation_area)\n",
    "\n",
    "        return ga_instance\n",
    "\n",
    "    @staticmethod\n",
    "    def visualise(parcel, eva, op_area=None, solutions=None):\n",
    "        plt.figure(figsize=(10, 5))\n",
    "        plt.xticks(fontsize=18)\n",
    "        plt.yticks(fontsize=18)\n",
    "        plt.gca().set_aspect('equal', adjustable='box')\n",
    "        ax = plt.gca()\n",
    "        eva.add_view(ax)\n",
    "        land_shape = parcel.setback_shape.polygon_utm\n",
    "        ax.plot(*land_shape.exterior.xy, \"g\")\n",
    "        if op_area is not None:\n",
    "            ax.fill(*op_area.exterior.xy, \"b\", alpha=0.2)\n",
    "        if solutions is not None:\n",
    "            for s in solutions:\n",
    "                ax.plot(s[0], s[1], \"*r\")\n",
    "        ax.grid()\n",
    "        plt.show()"
   ]
  },
  {
   "cell_type": "code",
   "execution_count": null,
   "id": "36930c1e",
   "metadata": {
    "scrolled": false
   },
   "outputs": [],
   "source": [
    "p = parcel.setback_shape.polygon_utm.representative_point()\n",
    "eva.set_position(p.x, p.y, 0)\n",
    "ga = GAAlgorithm()\n",
    "result = ga.run(parcel=parcel,\n",
    "       eva=eva,\n",
    "       visualise=True,\n",
    "       num_generations=2000, \n",
    "       seed=random.randint(0, 10000))\n",
    "solution = tuple(result.best_solution()[0])"
   ]
  },
  {
   "cell_type": "code",
   "execution_count": null,
   "id": "efd655d9",
   "metadata": {},
   "outputs": [],
   "source": [
    "land = Land(parcel=parcel)\n",
    "eva.default_position = solution\n",
    "land.place_eva(eva)\n",
    "land.display(setback_poly=parcel.setback_shape.polygon_utm, \n",
    "             save_data=True, \n",
    "             save_path=os.path.join(RESULTS_DIR, 'final_result.png'))"
   ]
  },
  {
   "cell_type": "code",
   "execution_count": null,
   "id": "7f16c3fc",
   "metadata": {},
   "outputs": [],
   "source": [
    "plt.figure(figsize=(10, 5))\n",
    "plt.xticks(fontsize=18)\n",
    "plt.yticks(fontsize=18)\n",
    "plt.gca().set_aspect('equal', adjustable='box')\n",
    "ax = plt.gca()\n",
    "shadows = eva.cast_shadows()\n",
    "ax.fill(*parcel.polygon_utm.exterior.xy, facecolor=\"forestgreen\", edgecolor=\"black\", alpha=0.4)\n",
    "\n",
    "eva.add_view(ax)\n",
    "\n",
    "for p in parcel.left_parcels:\n",
    "    ax.plot(*p.polygon_utm.exterior.xy, 'r', label='Left Parcel')\n",
    "for p in parcel.right_parcels:\n",
    "    ax.plot(*p.polygon_utm.exterior.xy, 'b', label='Right Parcel')\n",
    "\n",
    "for t, s in shadows.items():\n",
    "    ax.fill(*s.exterior.xy, 'k', alpha=0.2, label=f'Shadows')\n",
    "\n",
    "plt.axis('off')\n",
    "handles, labels = ax.get_legend_handles_labels()\n",
    "unique = [(h, l) for i, (h, l) in enumerate(zip(handles, labels)) if l not in labels[:i]]\n",
    "plt.legend(*zip(*unique), loc='upper right')\n",
    "plt.savefig(os.path.join(RESULTS_DIR, 'shadows.png'), dpi=300, bbox_inches='tight', pad_inches=0)"
   ]
  },
  {
   "cell_type": "markdown",
   "id": "caa7f39a",
   "metadata": {},
   "source": [
    "## Multiple Buildings"
   ]
  },
  {
   "cell_type": "code",
   "execution_count": null,
   "id": "2f29a465",
   "metadata": {},
   "outputs": [],
   "source": [
    "property_id = '0e9ec792-e7e0-53ea-8137-d03b045a6347' # 9 properties"
   ]
  },
  {
   "cell_type": "code",
   "execution_count": null,
   "id": "3b53f79e",
   "metadata": {},
   "outputs": [],
   "source": [
    "pipeline.run(data={\"property_id\": property_id},\n",
    "             zone_permit_exists=True,\n",
    "             subdivision_permit_exists=True,\n",
    "             tolerance=0.005)"
   ]
  },
  {
   "cell_type": "code",
   "execution_count": null,
   "id": "9a479eb4",
   "metadata": {},
   "outputs": [],
   "source": [
    "parcels = [p.parcel for p in parcels_data]\n",
    "evas = [Eva(\"./configs/building_cfg_single.json\") for _ in range(len(parcels))]"
   ]
  },
  {
   "cell_type": "code",
   "execution_count": null,
   "id": "ece863cf",
   "metadata": {},
   "outputs": [],
   "source": [
    "RESULTS_DIR='./results/complex_case_2'"
   ]
  },
  {
   "cell_type": "code",
   "execution_count": null,
   "id": "5d2b53cb",
   "metadata": {},
   "outputs": [],
   "source": [
    "import pygad\n",
    "import random\n",
    "import numpy as np\n",
    "import matplotlib.pyplot as plt\n",
    "\n",
    "from riseuplib.model.land import Land\n",
    "from riseuplib.utils.geometry.basic import discretize\n",
    "from shapely.geometry import Polygon, Point\n",
    "from timeit import default_timer as timer\n",
    "\n",
    "\n",
    "def cost_n(parcels: typing.List[Parcel], evas: typing.List[Eva], minimise=True) -> float:\n",
    "    result = 0\n",
    "    for eva, parcel in zip(evas, parcels):\n",
    "        x, y, _ = eva.get_position()\n",
    "        dist_to_front = parcel.setback_shape.sides.front.distance(Point(x, y))\n",
    "        land_shape = parcel.setback_shape.polygon_utm\n",
    "        eva_shape = eva.get_shape()\n",
    "        result += 10 * dist_to_front ** 2 + 10 * np.abs(eva_shape.intersection(land_shape).area - eva_shape.area) ** 2 + eva_shape.distance(land_shape) ** 2\n",
    "\n",
    "    return result if minimise else -result\n",
    "\n",
    "\n",
    "class GAAlgorithm:\n",
    "    \"\"\"\n",
    "    Genetic algorithm class instance\n",
    "    \"\"\"\n",
    "    def __init__(self):\n",
    "        pass\n",
    "\n",
    "    def run(self,\n",
    "            parcels: typing.List[Parcel],\n",
    "            evas: typing.List[Eva],\n",
    "            init_angle: float = None,\n",
    "            seed=123,\n",
    "            num_generations=1000,\n",
    "            sol_per_pop=5,\n",
    "            num_parents_mating=3,\n",
    "            reach=0.0,\n",
    "            saturation=20,\n",
    "            *args, **kwargs) -> pygad.GA:\n",
    "\n",
    "        # set seed (this allows getting reproducible results)\n",
    "        random.seed(seed)\n",
    "        np.random.seed(seed)\n",
    "\n",
    "        visualise = kwargs[\"visualise\"] if \"visualise\" in kwargs else False\n",
    "        n_actions = 3 * len(parcels)\n",
    "\n",
    "        def fitness_function(solution: typing.List, solution_idx: int) -> float:\n",
    "            if len(solution) != 3 * len(evas):\n",
    "                raise RuntimeError(f\"Action state dimension is wrong. \"\n",
    "                                   f\"Actions len: {len(solution)}\")\n",
    "            for idx, eva in enumerate(evas):\n",
    "                x, y, angle = solution[idx * 3: idx * 3 + 3]\n",
    "                eva.set_position(x, y, angle)\n",
    "            return cost_n(parcels=parcels, evas=evas, minimise=False)\n",
    "        \n",
    "        gene_space = []\n",
    "        for parcel in parcels:\n",
    "            points = discretize(parcel.setback_shape.polygon_utm)\n",
    "            x_space, y_space = list(zip(*points))\n",
    "            angle_gene_space = list(range(0, 360, 10)) if init_angle is None else list(range(int(init_angle) - 10,\n",
    "                                                                                       int(init_angle) + 10, 1))\n",
    "            gene_space.extend([list(x_space), list(y_space), angle_gene_space])\n",
    "        \n",
    "\n",
    "        # create an instance of genetic algorithm\n",
    "        ga_instance = pygad.GA(num_generations=num_generations,\n",
    "                               sol_per_pop=sol_per_pop,\n",
    "                               num_parents_mating=num_parents_mating,\n",
    "                               num_genes=n_actions,\n",
    "                               mutation_type=\"adaptive\",\n",
    "                               mutation_num_genes=(3, 2),\n",
    "                               gene_space=gene_space,\n",
    "                               allow_duplicate_genes=False,\n",
    "                               fitness_func=fitness_function)\n",
    "\n",
    "        print(\"Initial Population\")\n",
    "        print(ga_instance.initial_population)\n",
    "\n",
    "        # apply first population\n",
    "        fitness_function(ga_instance.population[0], 0)\n",
    "        if visualise:\n",
    "            self.visualise(parcels=parcels, evas=evas)\n",
    "\n",
    "        # run GA over all buildings on land\n",
    "        start = timer()\n",
    "        ga_instance.run()\n",
    "        elapsed = timer() - start\n",
    "        print(f\"Elapsed: {elapsed}\")\n",
    "\n",
    "        # output final population\n",
    "        print(\"Final Population\")\n",
    "        print(ga_instance.population)\n",
    "        print(f\"Fitness function value: {fitness_function(ga_instance.best_solution()[0], 0)}\")\n",
    "\n",
    "        if visualise:\n",
    "            # convergence plot\n",
    "            ga_instance.plot_fitness(save_dir=os.path.join(RESULTS_DIR, 'fitness.png'))\n",
    "\n",
    "            self.visualise(parcels=parcels,\n",
    "                           evas=evas)\n",
    "\n",
    "        return ga_instance\n",
    "\n",
    "    @staticmethod\n",
    "    def visualise(parcels, evas, op_area=None, solutions=None):\n",
    "        plt.figure(figsize=(10, 5))\n",
    "        plt.xticks(fontsize=18)\n",
    "        plt.yticks(fontsize=18)\n",
    "        plt.gca().set_aspect('equal', adjustable='box')\n",
    "        ax = plt.gca()\n",
    "        for eva, parcel in zip(evas, parcels):\n",
    "            eva.add_view(ax)\n",
    "            land_shape = parcel.setback_shape.polygon_utm\n",
    "            ax.plot(*land_shape.exterior.xy, \"g\")\n",
    "            if op_area is not None:\n",
    "                ax.fill(*op_area.exterior.xy, \"b\", alpha=0.2)\n",
    "            if solutions is not None:\n",
    "                for s in solutions:\n",
    "                    ax.plot(s[0], s[1], \"*r\")\n",
    "        ax.grid()\n",
    "        plt.show()"
   ]
  },
  {
   "cell_type": "code",
   "execution_count": null,
   "id": "d0aa8b8b",
   "metadata": {},
   "outputs": [],
   "source": [
    "for eva, parcel in zip(evas, parcels):\n",
    "    p = parcel.setback_shape.polygon_utm.representative_point()\n",
    "    eva.set_position(p.x, p.y, 0)"
   ]
  },
  {
   "cell_type": "code",
   "execution_count": null,
   "id": "b80e8697",
   "metadata": {},
   "outputs": [],
   "source": [
    "GAAlgorithm.visualise(parcels=parcels, evas=evas)"
   ]
  },
  {
   "cell_type": "code",
   "execution_count": null,
   "id": "462bf711",
   "metadata": {},
   "outputs": [],
   "source": [
    "ga = GAAlgorithm()\n",
    "result = ga.run(parcels=parcels,\n",
    "                evas=evas,\n",
    "                visualise=True,\n",
    "                num_generations=10000, \n",
    "                seed=random.randint(0, 10000))\n",
    "\n",
    "solution = tuple(result.best_solution()[0])"
   ]
  },
  {
   "cell_type": "code",
   "execution_count": null,
   "id": "bbc6fbe0",
   "metadata": {},
   "outputs": [],
   "source": [
    "save_path=os.path.join(RESULTS_DIR, 'final_result.png')"
   ]
  },
  {
   "cell_type": "code",
   "execution_count": null,
   "id": "631ca43a",
   "metadata": {},
   "outputs": [],
   "source": [
    "lands = []\n",
    "for idx, (eva, parcel) in enumerate(zip(evas, parcels)):\n",
    "    land = Land(parcel=parcel)\n",
    "    eva.default_position = solution[idx*3:idx*3 + 3]\n",
    "    land.place_eva(eva)\n",
    "    lands.append(land)"
   ]
  },
  {
   "cell_type": "code",
   "execution_count": null,
   "id": "934bba48",
   "metadata": {},
   "outputs": [],
   "source": [
    "min_x = min_y = float('inf')\n",
    "max_x = max_y = -float('inf')\n",
    "for land in lands:\n",
    "    minx, maxx = land.get_xrange(offset=10)\n",
    "    miny, maxy = land.get_yrange(offset=10)\n",
    "    min_x = min(min_x, minx)\n",
    "    min_y = min(min_y, miny)\n",
    "    max_x = max(max_x, maxx)\n",
    "    max_y = max(max_y, maxy)\n",
    "\n",
    "ax = create_canvas((10, 10), min_x, min_y, max_x, max_y)\n",
    "\n",
    "# visualise land itself\n",
    "for land in lands:\n",
    "    land.add_view(ax=ax, facecolor=\"forestgreen\", edgecolor=\"black\", alpha=0.4)\n",
    "\n",
    "# add hatched setback polygon\n",
    "for parcel in parcels:\n",
    "    ax.fill(*parcel.setback_shape.polygon_utm.exterior.xy, fc=\"none\", ec=\"k\", hatch=\"/\", label=\"Buildable area\")\n",
    "\n",
    "# visualise buildings\n",
    "for eva in evas:\n",
    "    eva.add_view(ax, show_origin=False)\n",
    "\n",
    "# reduce the amount of white space in the figure\n",
    "plt.tight_layout()\n",
    "# plt.show()\n",
    "plt.savefig(save_path, dpi=300, bbox_inches='tight', pad_inches=0)"
   ]
  }
 ],
 "metadata": {
  "kernelspec": {
   "display_name": "Python 3 (ipykernel)",
   "language": "python",
   "name": "python3"
  },
  "language_info": {
   "codemirror_mode": {
    "name": "ipython",
    "version": 3
   },
   "file_extension": ".py",
   "mimetype": "text/x-python",
   "name": "python",
   "nbconvert_exporter": "python",
   "pygments_lexer": "ipython3",
   "version": "3.10.4"
  }
 },
 "nbformat": 4,
 "nbformat_minor": 5
}
